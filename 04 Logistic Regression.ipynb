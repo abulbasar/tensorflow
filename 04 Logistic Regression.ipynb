{
 "cells": [
  {
   "cell_type": "code",
   "execution_count": 113,
   "metadata": {
    "collapsed": true
   },
   "outputs": [],
   "source": [
    "import pandas as pd\n",
    "import numpy as np\n",
    "import tensorflow as tf\n",
    "import pandas as pd\n",
    "\n",
    "import matplotlib.pyplot as plt\n",
    "\n",
    "%matplotlib inline"
   ]
  },
  {
   "cell_type": "code",
   "execution_count": 2,
   "metadata": {
    "collapsed": true
   },
   "outputs": [],
   "source": [
    "def sigmoid(x):\n",
    "    return 1 / (1 + np.exp(-x))"
   ]
  },
  {
   "cell_type": "code",
   "execution_count": 142,
   "metadata": {
    "collapsed": true
   },
   "outputs": [],
   "source": [
    "N = 20000\n",
    "X_data = np.random.randn(N,3)\n",
    "w, b = np.array([0.3, 0.5, 0.1]), -0.2\n",
    "wxb = np.matmul(w, X_data.T) + b\n",
    "y_data = np.random.binomial(1, sigmoid(wxb)).astype(np.float32)"
   ]
  },
  {
   "cell_type": "code",
   "execution_count": 143,
   "metadata": {},
   "outputs": [
    {
     "data": {
      "text/plain": [
       "array([ 1.,  0.,  0., ...,  0.,  1.,  1.], dtype=float32)"
      ]
     },
     "execution_count": 143,
     "metadata": {},
     "output_type": "execute_result"
    }
   ],
   "source": [
    "y_data"
   ]
  },
  {
   "cell_type": "code",
   "execution_count": 153,
   "metadata": {
    "scrolled": false
   },
   "outputs": [
    {
     "data": {
      "text/html": [
       "<div>\n",
       "<style>\n",
       "    .dataframe thead tr:only-child th {\n",
       "        text-align: right;\n",
       "    }\n",
       "\n",
       "    .dataframe thead th {\n",
       "        text-align: left;\n",
       "    }\n",
       "\n",
       "    .dataframe tbody tr th {\n",
       "        vertical-align: top;\n",
       "    }\n",
       "</style>\n",
       "<table border=\"1\" class=\"dataframe\">\n",
       "  <thead>\n",
       "    <tr style=\"text-align: right;\">\n",
       "      <th></th>\n",
       "      <th>0</th>\n",
       "      <th>1</th>\n",
       "      <th>2</th>\n",
       "      <th>3</th>\n",
       "    </tr>\n",
       "  </thead>\n",
       "  <tbody>\n",
       "    <tr>\n",
       "      <th>15</th>\n",
       "      <td>0.291224</td>\n",
       "      <td>0.510773</td>\n",
       "      <td>0.10008</td>\n",
       "      <td>-0.217367</td>\n",
       "    </tr>\n",
       "    <tr>\n",
       "      <th>16</th>\n",
       "      <td>0.291224</td>\n",
       "      <td>0.510773</td>\n",
       "      <td>0.10008</td>\n",
       "      <td>-0.217367</td>\n",
       "    </tr>\n",
       "    <tr>\n",
       "      <th>17</th>\n",
       "      <td>0.291224</td>\n",
       "      <td>0.510773</td>\n",
       "      <td>0.10008</td>\n",
       "      <td>-0.217367</td>\n",
       "    </tr>\n",
       "    <tr>\n",
       "      <th>18</th>\n",
       "      <td>0.291224</td>\n",
       "      <td>0.510773</td>\n",
       "      <td>0.10008</td>\n",
       "      <td>-0.217367</td>\n",
       "    </tr>\n",
       "    <tr>\n",
       "      <th>19</th>\n",
       "      <td>0.291224</td>\n",
       "      <td>0.510773</td>\n",
       "      <td>0.10008</td>\n",
       "      <td>-0.217367</td>\n",
       "    </tr>\n",
       "  </tbody>\n",
       "</table>\n",
       "</div>"
      ],
      "text/plain": [
       "           0         1        2         3\n",
       "15  0.291224  0.510773  0.10008 -0.217367\n",
       "16  0.291224  0.510773  0.10008 -0.217367\n",
       "17  0.291224  0.510773  0.10008 -0.217367\n",
       "18  0.291224  0.510773  0.10008 -0.217367\n",
       "19  0.291224  0.510773  0.10008 -0.217367"
      ]
     },
     "execution_count": 153,
     "metadata": {},
     "output_type": "execute_result"
    },
    {
     "data": {
      "image/png": "[encoded data removed]",
      "text/plain": [
       "<matplotlib.figure.Figure at 0x124dcfb70>"
      ]
     },
     "metadata": {},
     "output_type": "display_data"
    }
   ],
   "source": [
    "learning_rate = 0.3\n",
    "epochs = 1000\n",
    "\n",
    "X = tf.placeholder(dtype=tf.float32, shape=[None, 3])\n",
    "y = tf.placeholder(dtype=tf.float32, shape=None)\n",
    "\n",
    "W = tf.Variable(tf.zeros([1, 3]))\n",
    "b = tf.Variable(tf.zeros([1, 1]))\n",
    "\n",
    "y_pred = tf.matmul(W, tf.transpose(X)) + b \n",
    "y_pred_prob = tf.sigmoid(y_pred)\n",
    "\n",
    "loss = tf.nn.sigmoid_cross_entropy_with_logits(labels=y, logits = y_pred)\n",
    "loss = tf.reduce_mean(loss)\n",
    "\n",
    "solver = tf.train.GradientDescentOptimizer(learning_rate)\n",
    "train = solver.minimize(loss)\n",
    "accuracy= tf.metrics.accuracy(labels=y, predictions=y)\n",
    "\n",
    "weights = np.empty([0, 4])\n",
    "with tf.Session() as session:\n",
    "    session.run(tf.global_variables_initializer())\n",
    "    for step in range(epochs):\n",
    "        session.run(train, feed_dict={X: X_data, y: y_data})\n",
    "        \n",
    "        if step % 50 == 0:\n",
    "            W_, b_ = session.run([W, b])\n",
    "            weights = np.vstack([weights, np.hstack([W_, b_])])\n",
    "            #print(\"Accuracy: \", accuracy_)\n",
    "            \n",
    "\n",
    "df = pd.DataFrame(weights)\n",
    "df.plot()\n",
    "df.tail()"
   ]
  },
  {
   "cell_type": "code",
   "execution_count": 154,
   "metadata": {
    "scrolled": false
   },
   "outputs": [],
   "source": [
    "#with tf.Session() as session:\n",
    "#    session.run(tf.global_variables_initializer())\n",
    "#    print(session.run(accuracy, feed_dict={X: X_data, y: y_data}))"
   ]
  }
 ],
 "metadata": {
  "kernelspec": {
   "display_name": "Python 3",
   "language": "python",
   "name": "python3"
  },
  "language_info": {
   "codemirror_mode": {
    "name": "ipython",
    "version": 3
   },
   "file_extension": ".py",
   "mimetype": "text/x-python",
   "name": "python",
   "nbconvert_exporter": "python",
   "pygments_lexer": "ipython3",
   "version": "3.6.1"
  }
 },
 "nbformat": 4,
 "nbformat_minor": 2
}
