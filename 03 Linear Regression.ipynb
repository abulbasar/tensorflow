{
 "cells": [
  {
   "cell_type": "code",
   "execution_count": 1,
   "metadata": {
    "collapsed": true
   },
   "outputs": [],
   "source": [
    "import pandas as pd\n",
    "import numpy as np\n",
    "import tensorflow as tf\n",
    "from sklearn.linear_model import LinearRegression\n",
    "from sklearn.preprocessing import StandardScaler"
   ]
  },
  {
   "cell_type": "code",
   "execution_count": 2,
   "metadata": {},
   "outputs": [
    {
     "name": "stdout",
     "output_type": "stream",
     "text": [
      "<class 'pandas.core.frame.DataFrame'>\n",
      "RangeIndex: 47840 entries, 0 to 47839\n",
      "Data columns (total 5 columns):\n",
      "AT    47840 non-null float64\n",
      "V     47840 non-null float64\n",
      "AP    47840 non-null float64\n",
      "RH    47840 non-null float64\n",
      "PE    47840 non-null float64\n",
      "dtypes: float64(5)\n",
      "memory usage: 1.8 MB\n"
     ]
    }
   ],
   "source": [
    "df = pd.read_csv(\"../data/Combined_Cycle_Power_Plant.csv\")\n",
    "df.info()"
   ]
  },
  {
   "cell_type": "code",
   "execution_count": 3,
   "metadata": {},
   "outputs": [],
   "source": [
    "X_data = df.iloc[:, :-1].values.astype(\"float32\")\n",
    "y_data = df.iloc[:, -1].values.astype(\"float32\")"
   ]
  },
  {
   "cell_type": "code",
   "execution_count": 4,
   "metadata": {},
   "outputs": [
    {
     "data": {
      "text/plain": [
       "((47840, 4), (47840,))"
      ]
     },
     "execution_count": 4,
     "metadata": {},
     "output_type": "execute_result"
    }
   ],
   "source": [
    "X_data.shape, y_data.shape"
   ]
  },
  {
   "cell_type": "code",
   "execution_count": 5,
   "metadata": {},
   "outputs": [
    {
     "name": "stdout",
     "output_type": "stream",
     "text": [
      "Intercept:  454.564122697 Coefficients:  [-1.97731483 -0.23402877  0.06212739 -0.15801667]\n"
     ]
    }
   ],
   "source": [
    "lr = LinearRegression()\n",
    "lr.fit(X_data, y_data)\n",
    "print(\"Intercept: \", lr.intercept_, \"Coefficients: \", lr.coef_)"
   ]
  },
  {
   "cell_type": "code",
   "execution_count": 6,
   "metadata": {
    "collapsed": true
   },
   "outputs": [],
   "source": [
    "X_data_scaled = StandardScaler().fit_transform(X_data)"
   ]
  },
  {
   "cell_type": "code",
   "execution_count": 7,
   "metadata": {},
   "outputs": [
    {
     "name": "stdout",
     "output_type": "stream",
     "text": [
      "Intercept:  454.365019126 Coefficients:  [-14.73483372  -2.97384834   0.36894315  -2.3069644 ]\n"
     ]
    }
   ],
   "source": [
    "lr = LinearRegression()\n",
    "lr.fit(X_data_scaled, y_data)\n",
    "print(\"Intercept: \", lr.intercept_, \"Coefficients: \", lr.coef_)"
   ]
  },
  {
   "cell_type": "code",
   "execution_count": 11,
   "metadata": {
    "scrolled": false
   },
   "outputs": [
    {
     "name": "stdout",
     "output_type": "stream",
     "text": [
      "0 [array([[-1.84037113, -3.69486833,  2.10525751, -0.49510765]], dtype=float32), 90.873085]\n",
      "25 [array([[-9.62116528, -6.56625462,  1.41393936, -0.50683391]], dtype=float32), 452.99179]\n",
      "50 [array([[-11.65088558,  -5.18104839,   0.92424184,  -1.22718024]], dtype=float32), 454.35983]\n",
      "75 [array([[-12.84440422,  -4.30378294,   0.69417429,  -1.62006676]], dtype=float32), 454.36496]\n",
      "100 [array([[-13.55442047,  -3.77842975,   0.56024027,  -1.85180104]], dtype=float32), 454.36496]\n",
      "125 [array([[-13.97724438,  -3.46538663,   0.48063853,  -1.98969114]], dtype=float32), 454.36496]\n",
      "150 [array([[-14.22906399,  -3.27893734,   0.43323904,  -2.07180786]], dtype=float32), 454.36496]\n",
      "175 [array([[-14.37904263,  -3.16789222,   0.40500909,  -2.1207149 ]], dtype=float32), 454.36496]\n",
      "200 [array([[-14.46836472,  -3.10175753,   0.3881965 ,  -2.14984202]], dtype=float32), 454.36496]\n",
      "225 [array([[-14.52156448,  -3.06236839,   0.3781831 ,  -2.16719007]], dtype=float32), 454.36496]\n",
      "250 [array([[-14.55324841,  -3.03890872,   0.37221926,  -2.17752218]], dtype=float32), 454.36496]\n",
      "275 [array([[-14.57211685,  -3.02493787,   0.36866775,  -2.18367505]], dtype=float32), 454.36496]\n",
      "300 [array([[-14.5833559 ,  -3.01661658,   0.3665522 ,  -2.18733978]], dtype=float32), 454.36496]\n",
      "325 [array([[-14.59004974,  -3.01166105,   0.3652924 ,  -2.18952227]], dtype=float32), 454.36496]\n",
      "350 [array([[-14.5940361 ,  -3.00870943,   0.36454222,  -2.19082236]], dtype=float32), 454.36496]\n",
      "375 [array([[-14.5964098 ,  -3.00695157,   0.36409521,  -2.19159627]], dtype=float32), 454.36496]\n",
      "400 [array([[-14.5978241 ,  -3.00590491,   0.36382911,  -2.19205761]], dtype=float32), 454.36496]\n",
      "425 [array([[-14.59866619,  -3.00528073,   0.36367056,  -2.19233251]], dtype=float32), 454.36496]\n",
      "450 [array([[-14.59916878,  -3.00490928,   0.36357597,  -2.19249654]], dtype=float32), 454.36496]\n",
      "475 [array([[-14.59946632,  -3.00468874,   0.36352003,  -2.19259334]], dtype=float32), 454.36496]\n"
     ]
    }
   ],
   "source": [
    "n, d = X_data.shape\n",
    "learing_rate = 0.1\n",
    "alpha = 0.1\n",
    "\n",
    "X = tf.placeholder(tf.float32, shape=[None, d])\n",
    "y = tf.placeholder(tf.float32, shape=[None])\n",
    "w = tf.Variable(tf.random_normal([1, d], stddev=1))\n",
    "b = tf.Variable(0, dtype=tf.float32)\n",
    "y_pred = tf.matmul(w, tf.transpose(X)) + b\n",
    "rmse = tf.reduce_mean(tf.square(y - y_pred))\n",
    "regularization = alpha * tf.reduce_sum(tf.abs(w))\n",
    "loss =  rmse + regularization \n",
    "optimizer = tf.train.GradientDescentOptimizer(learning_rate = learing_rate)\n",
    "train = optimizer.minimize(loss)\n",
    "\n",
    "init = tf.global_variables_initializer()\n",
    "\n",
    "with tf.Session() as session: \n",
    "    session.run(init)\n",
    "    for step in np.arange(500):\n",
    "        session.run(train, feed_dict = {X: X_data_scaled, y: y_data})\n",
    "        if step % 25 == 0:\n",
    "            print(step, session.run([w, b]))"
   ]
  },
  {
   "cell_type": "code",
   "execution_count": null,
   "metadata": {
    "collapsed": true
   },
   "outputs": [],
   "source": []
  }
 ],
 "metadata": {
  "kernelspec": {
   "display_name": "Python 3",
   "language": "python",
   "name": "python3"
  },
  "language_info": {
   "codemirror_mode": {
    "name": "ipython",
    "version": 3
   },
   "file_extension": ".py",
   "mimetype": "text/x-python",
   "name": "python",
   "nbconvert_exporter": "python",
   "pygments_lexer": "ipython3",
   "version": "3.6.1"
  }
 },
 "nbformat": 4,
 "nbformat_minor": 2
}
