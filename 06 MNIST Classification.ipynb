{
 "cells": [
  {
   "cell_type": "code",
   "execution_count": 19,
   "metadata": {},
   "outputs": [],
   "source": [
    "import pandas as pd\n",
    "import numpy as np\n",
    "import tensorflow as tf\n",
    "from sklearn.linear_model import LogisticRegression\n",
    "from sklearn.preprocessing import StandardScaler, LabelEncoder, OneHotEncoder\n",
    "from sklearn.metrics import accuracy_score\n",
    "\n",
    "import matplotlib.pyplot as plt\n",
    "\n",
    "from datetime import datetime\n",
    "\n",
    "%matplotlib inline"
   ]
  },
  {
   "cell_type": "code",
   "execution_count": 11,
   "metadata": {
    "collapsed": true
   },
   "outputs": [],
   "source": [
    "DATA_HOME=\"/wd/data/MNIST/\""
   ]
  },
  {
   "cell_type": "code",
   "execution_count": 5,
   "metadata": {},
   "outputs": [
    {
     "name": "stdout",
     "output_type": "stream",
     "text": [
      "pandas:  0.20.1 \n",
      "numpy:  1.12.1 \n",
      "tensorflow:  1.2.1\n"
     ]
    }
   ],
   "source": [
    "print(\"pandas: \", pd.__version__,\n",
    "    \"\\nnumpy: \", np.__version__,\n",
    "    \"\\ntensorflow: \", tf.__version__\n",
    "      \n",
    "     )"
   ]
  },
  {
   "cell_type": "code",
   "execution_count": 6,
   "metadata": {
    "collapsed": true
   },
   "outputs": [],
   "source": [
    "def normalize_fetures(X):\n",
    "    return X * 0.98 / 255 + 0.01\n",
    "\n",
    "def normalize_labels(y):\n",
    "    y = OneHotEncoder(sparse=False).fit_transform(y)\n",
    "    y[y == 0] = 0.01\n",
    "    y[y == 1] = 0.99\n",
    "    return y"
   ]
  },
  {
   "cell_type": "code",
   "execution_count": 7,
   "metadata": {},
   "outputs": [
    {
     "name": "stdout",
     "output_type": "stream",
     "text": [
      "[0, 1, 2]\n",
      "[3, 4, 5]\n",
      "[6, 7, 8]\n",
      "[9, 0, 1]\n",
      "[2, 3, 4]\n",
      "[5, 6, 7]\n",
      "[8, 9, 0]\n",
      "[1, 2, 3]\n",
      "[4, 5, 6]\n",
      "[7, 8, 9]\n",
      "[0, 1, 2]\n",
      "[3, 4, 5]\n"
     ]
    }
   ],
   "source": [
    "class Batch():    \n",
    "    def __init__(self, total, batch_size):\n",
    "        self.total = total\n",
    "        self.batch_size = batch_size\n",
    "        self.current = 0\n",
    "\n",
    "    def next(self):\n",
    "        max_index = self.current + self.batch_size\n",
    "        indices = [i if i < self.total else i - self.total \n",
    "                       for i in range(self.current, max_index)]\n",
    "        self.current = max_index % self.total\n",
    "        return indices \n",
    "\n",
    "b = Batch(10, 3)\n",
    "print(b.next())\n",
    "print(b.next())\n",
    "print(b.next())\n",
    "print(b.next())\n",
    "print(b.next())\n",
    "print(b.next())\n",
    "print(b.next())\n",
    "print(b.next())\n",
    "print(b.next())\n",
    "print(b.next())\n",
    "print(b.next())\n",
    "print(b.next())"
   ]
  },
  {
   "cell_type": "code",
   "execution_count": 9,
   "metadata": {},
   "outputs": [
    {
     "data": {
      "text/plain": [
       "[]"
      ]
     },
     "execution_count": 9,
     "metadata": {},
     "output_type": "execute_result"
    }
   ],
   "source": [
    "list(range(40, -10))"
   ]
  },
  {
   "cell_type": "code",
   "execution_count": 10,
   "metadata": {},
   "outputs": [
    {
     "name": "stdout",
     "output_type": "stream",
     "text": [
      "[[ 0.17118558  0.974977    0.95520643]\n",
      " [ 0.06174732  0.86466603  0.37670848]\n",
      " [ 0.52669215  0.99409666  0.14322462]\n",
      " [ 0.22161793  0.41811251  0.76237563]\n",
      " [ 0.19797656  0.86617836  0.76976444]\n",
      " [ 0.80022383  0.50410787  0.26249855]\n",
      " [ 0.92547404  0.9051367   0.3064223 ]\n",
      " [ 0.76536313  0.07964615  0.61420944]\n",
      " [ 0.50653045  0.50796204  0.26054975]\n",
      " [ 0.3460666   0.34757179  0.82002295]]\n",
      "[[ 0.17118558  0.974977    0.95520643]\n",
      " [ 0.06174732  0.86466603  0.37670848]\n",
      " [ 0.52669215  0.99409666  0.14322462]]\n",
      "[[ 0.22161793  0.41811251  0.76237563]\n",
      " [ 0.19797656  0.86617836  0.76976444]\n",
      " [ 0.80022383  0.50410787  0.26249855]]\n"
     ]
    }
   ],
   "source": [
    "a = np.random.rand(10, 3)\n",
    "print(a)\n",
    "b = Batch(total = 10, batch_size = 3)\n",
    "print(a[b.next()])\n",
    "print(a[b.next()])"
   ]
  },
  {
   "cell_type": "code",
   "execution_count": 12,
   "metadata": {},
   "outputs": [
    {
     "name": "stdout",
     "output_type": "stream",
     "text": [
      "X_train float32 (60000, 784) y_train int64 (60000,)\n"
     ]
    }
   ],
   "source": [
    "df_train = pd.read_csv(DATA_HOME + \"/mnist_train.csv\", header=None, dtype= np.float32)\n",
    "X_train = normalize_fetures(df_train.iloc[:, 1:].values)\n",
    "y_train = df_train.iloc[:, 0].values\n",
    "\n",
    "label_encoder = LabelEncoder()\n",
    "y_train = label_encoder.fit_transform(y_train)\n",
    "print(\"X_train\", X_train.dtype, X_train.shape, \"y_train\", y_train.dtype, y_train.shape)"
   ]
  },
  {
   "cell_type": "code",
   "execution_count": 13,
   "metadata": {},
   "outputs": [
    {
     "name": "stdout",
     "output_type": "stream",
     "text": [
      "X_test float32 (10000, 784) y_test:  int64 (10000,)\n"
     ]
    }
   ],
   "source": [
    "df_test = pd.read_csv(DATA_HOME + \"/mnist_test.csv\", header=None, dtype=np.float32)\n",
    "X_test = normalize_fetures(df_test.iloc[:, 1:].values)\n",
    "y_test = label_encoder.transform(df_test.iloc[:, 0].values)\n",
    "print(\"X_test\", X_test.dtype, X_test.shape, \"y_test: \", y_test.dtype, y_test.shape)"
   ]
  },
  {
   "cell_type": "code",
   "execution_count": 14,
   "metadata": {},
   "outputs": [
    {
     "data": {
      "image/png": "[encoded data removed]",
      "text/plain": [
       "<matplotlib.figure.Figure at 0x7f0227f42710>"
      ]
     },
     "metadata": {},
     "output_type": "display_data"
    }
   ],
   "source": [
    "fig, _ = plt.subplots(5, 6, figsize = (15, 10))\n",
    "for i, ax in enumerate(fig.axes):\n",
    "    ax.imshow(X_train[i].reshape(28, 28), cmap=\"Greys\", interpolation=\"none\")\n",
    "    ax.set_title(\"T: %d\" % y_train[i])\n",
    "\n",
    "plt.tight_layout()"
   ]
  },
  {
   "cell_type": "code",
   "execution_count": 15,
   "metadata": {},
   "outputs": [
    {
     "data": {
      "text/plain": [
       "0.92020000000000002"
      ]
     },
     "execution_count": 15,
     "metadata": {},
     "output_type": "execute_result"
    }
   ],
   "source": [
    "lr = LogisticRegression()\n",
    "lr.fit(X_train, y_train)\n",
    "accuracy_score(y_pred=lr.predict(X_test), y_true = y_test)"
   ]
  },
  {
   "cell_type": "code",
   "execution_count": 30,
   "metadata": {
    "scrolled": false
   },
   "outputs": [
    {
     "name": "stdout",
     "output_type": "stream",
     "text": [
      "y_true_oh:  Tensor(\"one_hot_5:0\", dtype=float32) shape:  <unknown>\n",
      "y_pred:  Tensor(\"add_15:0\", shape=(?, 10), dtype=float32)\n",
      "y_pred_cls:  Tensor(\"ArgMax_5:0\", shape=(?,), dtype=int64)\n",
      "Step:    0, elapsed:    0, accuracy on test dataset: 0.1203\n",
      "Step:  100, elapsed:    1, accuracy on test dataset: 0.4390\n",
      "Step:  200, elapsed:    3, accuracy on test dataset: 0.6013\n",
      "Step:  300, elapsed:    5, accuracy on test dataset: 0.6726\n",
      "Step:  400, elapsed:    7, accuracy on test dataset: 0.7161\n",
      "Step:  500, elapsed:    9, accuracy on test dataset: 0.7399\n",
      "Step:  600, elapsed:   11, accuracy on test dataset: 0.7604\n",
      "Step:  700, elapsed:   13, accuracy on test dataset: 0.7714\n",
      "Step:  800, elapsed:   15, accuracy on test dataset: 0.7875\n",
      "Step:  900, elapsed:   17, accuracy on test dataset: 0.7958\n",
      "Step: 1000, elapsed:   18, accuracy on test dataset: 0.8028\n",
      "Step: 1100, elapsed:   20, accuracy on test dataset: 0.8083\n",
      "Step: 1200, elapsed:   22, accuracy on test dataset: 0.8164\n",
      "Step: 1300, elapsed:   24, accuracy on test dataset: 0.8183\n",
      "Step: 1400, elapsed:   26, accuracy on test dataset: 0.8246\n",
      "Step: 1500, elapsed:   28, accuracy on test dataset: 0.8275\n",
      "Step: 1600, elapsed:   30, accuracy on test dataset: 0.8311\n",
      "Step: 1700, elapsed:   32, accuracy on test dataset: 0.8332\n",
      "Step: 1800, elapsed:   33, accuracy on test dataset: 0.8360\n",
      "Step: 1900, elapsed:   35, accuracy on test dataset: 0.8398\n",
      "Step: 2000, elapsed:   37, accuracy on test dataset: 0.8416\n",
      "Step: 2100, elapsed:   39, accuracy on test dataset: 0.8432\n",
      "Step: 2200, elapsed:   41, accuracy on test dataset: 0.8459\n",
      "Step: 2300, elapsed:   43, accuracy on test dataset: 0.8471\n",
      "Step: 2400, elapsed:   45, accuracy on test dataset: 0.8499\n",
      "Step: 2500, elapsed:   47, accuracy on test dataset: 0.8498\n",
      "Step: 2600, elapsed:   48, accuracy on test dataset: 0.8519\n",
      "Step: 2700, elapsed:   50, accuracy on test dataset: 0.8529\n",
      "Step: 2800, elapsed:   52, accuracy on test dataset: 0.8542\n",
      "Step: 2900, elapsed:   54, accuracy on test dataset: 0.8556\n",
      "Step: 3000, elapsed:   56, accuracy on test dataset: 0.8589\n",
      "Step: 3100, elapsed:   58, accuracy on test dataset: 0.8566\n",
      "Step: 3200, elapsed:   60, accuracy on test dataset: 0.8606\n",
      "Step: 3300, elapsed:   62, accuracy on test dataset: 0.8602\n",
      "Step: 3400, elapsed:   63, accuracy on test dataset: 0.8607\n",
      "Step: 3500, elapsed:   65, accuracy on test dataset: 0.8623\n",
      "Step: 3600, elapsed:   67, accuracy on test dataset: 0.8636\n",
      "Step: 3700, elapsed:   69, accuracy on test dataset: 0.8628\n",
      "Step: 3800, elapsed:   71, accuracy on test dataset: 0.8649\n",
      "Step: 3900, elapsed:   73, accuracy on test dataset: 0.8655\n",
      "Step: 4000, elapsed:   75, accuracy on test dataset: 0.8655\n",
      "Step: 4100, elapsed:   77, accuracy on test dataset: 0.8664\n",
      "Step: 4200, elapsed:   78, accuracy on test dataset: 0.8669\n",
      "Step: 4300, elapsed:   80, accuracy on test dataset: 0.8677\n",
      "Step: 4400, elapsed:   82, accuracy on test dataset: 0.8684\n",
      "Step: 4500, elapsed:   84, accuracy on test dataset: 0.8695\n",
      "Step: 4600, elapsed:   86, accuracy on test dataset: 0.8706\n",
      "Step: 4700, elapsed:   88, accuracy on test dataset: 0.8705\n",
      "Step: 4800, elapsed:   90, accuracy on test dataset: 0.8722\n",
      "Step: 4900, elapsed:   92, accuracy on test dataset: 0.8716\n",
      "Step: 5000, elapsed:   93, accuracy on test dataset: 0.8729\n",
      "Step: 5100, elapsed:   95, accuracy on test dataset: 0.8739\n",
      "Step: 5200, elapsed:   97, accuracy on test dataset: 0.8750\n",
      "Step: 5300, elapsed:   99, accuracy on test dataset: 0.8741\n",
      "Step: 5400, elapsed:  101, accuracy on test dataset: 0.8757\n",
      "Step: 5500, elapsed:  103, accuracy on test dataset: 0.8755\n",
      "Step: 5600, elapsed:  105, accuracy on test dataset: 0.8767\n",
      "Step: 5700, elapsed:  107, accuracy on test dataset: 0.8773\n",
      "Step: 5800, elapsed:  108, accuracy on test dataset: 0.8777\n",
      "Step: 5900, elapsed:  110, accuracy on test dataset: 0.8771\n",
      "Step: 6000, elapsed:  112, accuracy on test dataset: 0.8784\n",
      "Step: 6100, elapsed:  114, accuracy on test dataset: 0.8772\n",
      "Step: 6200, elapsed:  116, accuracy on test dataset: 0.8793\n",
      "Step: 6300, elapsed:  118, accuracy on test dataset: 0.8807\n",
      "Step: 6400, elapsed:  120, accuracy on test dataset: 0.8810\n",
      "Step: 6500, elapsed:  122, accuracy on test dataset: 0.8797\n",
      "Step: 6600, elapsed:  123, accuracy on test dataset: 0.8803\n",
      "Step: 6700, elapsed:  125, accuracy on test dataset: 0.8802\n",
      "Step: 6800, elapsed:  127, accuracy on test dataset: 0.8817\n",
      "Step: 6900, elapsed:  129, accuracy on test dataset: 0.8827\n",
      "Step: 7000, elapsed:  131, accuracy on test dataset: 0.8824\n",
      "Step: 7100, elapsed:  133, accuracy on test dataset: 0.8832\n",
      "Step: 7200, elapsed:  135, accuracy on test dataset: 0.8835\n",
      "Step: 7300, elapsed:  137, accuracy on test dataset: 0.8833\n",
      "Step: 7400, elapsed:  139, accuracy on test dataset: 0.8844\n",
      "Step: 7500, elapsed:  141, accuracy on test dataset: 0.8846\n",
      "Step: 7600, elapsed:  143, accuracy on test dataset: 0.8846\n",
      "Step: 7700, elapsed:  144, accuracy on test dataset: 0.8860\n",
      "Step: 7800, elapsed:  146, accuracy on test dataset: 0.8859\n",
      "Step: 7900, elapsed:  148, accuracy on test dataset: 0.8850\n",
      "Step: 8000, elapsed:  150, accuracy on test dataset: 0.8868\n",
      "Step: 8100, elapsed:  152, accuracy on test dataset: 0.8872\n",
      "Step: 8200, elapsed:  154, accuracy on test dataset: 0.8860\n",
      "Step: 8300, elapsed:  156, accuracy on test dataset: 0.8876\n",
      "Step: 8400, elapsed:  158, accuracy on test dataset: 0.8865\n",
      "Step: 8500, elapsed:  159, accuracy on test dataset: 0.8867\n",
      "Step: 8600, elapsed:  161, accuracy on test dataset: 0.8882\n",
      "Step: 8700, elapsed:  163, accuracy on test dataset: 0.8897\n",
      "Step: 8800, elapsed:  165, accuracy on test dataset: 0.8873\n",
      "Step: 8900, elapsed:  167, accuracy on test dataset: 0.8891\n",
      "Step: 9000, elapsed:  169, accuracy on test dataset: 0.8884\n",
      "Step: 9100, elapsed:  171, accuracy on test dataset: 0.8885\n",
      "Step: 9200, elapsed:  173, accuracy on test dataset: 0.8891\n",
      "Step: 9300, elapsed:  175, accuracy on test dataset: 0.8908\n",
      "Step: 9400, elapsed:  177, accuracy on test dataset: 0.8891\n",
      "Step: 9500, elapsed:  178, accuracy on test dataset: 0.8902\n",
      "Step: 9600, elapsed:  180, accuracy on test dataset: 0.8903\n",
      "Step: 9700, elapsed:  182, accuracy on test dataset: 0.8900\n",
      "Step: 9800, elapsed:  184, accuracy on test dataset: 0.8912\n",
      "Step: 9900, elapsed:  186, accuracy on test dataset: 0.8917\n",
      "Step: 9999, elapsed:  188, accuracy on test dataset: 0.8907\n"
     ]
    }
   ],
   "source": [
    "n, d = X_train.shape\n",
    "num_classes = 10\n",
    "learning_rate = 0.1\n",
    "epochs = 10000\n",
    "batch_size = 100\n",
    "\n",
    "X = tf.placeholder(tf.float32, shape = [None, d])\n",
    "y_true = tf.placeholder(tf.int64, shape = None)\n",
    "y_true_oh = tf.one_hot(indices = y_true, depth = num_classes, on_value=0.9999, off_value=0.0001, dtype=tf.float32)\n",
    "print(\"y_true_oh: \", y_true_oh, \"shape: \", y_true_oh.get_shape())\n",
    "\n",
    "W = tf.Variable(tf.random_normal([d, num_classes], seed = 100))\n",
    "b = tf.Variable(tf.random_normal([num_classes], seed = 123))\n",
    "y_pred = tf.matmul(X, W) + b\n",
    "print(\"y_pred: \", y_pred)\n",
    "\n",
    "cross_entropy = tf.reduce_mean(tf.nn.softmax_cross_entropy_with_logits(labels= y_true_oh, logits = y_pred))\n",
    "\n",
    "solver = tf.train.GradientDescentOptimizer(learning_rate).minimize(cross_entropy\n",
    "                                                                   + tf.reduce_mean(tf.abs(W))\n",
    "                                                                   + tf.reduce_mean(tf.abs(b)))\n",
    "\n",
    "y_pred_cls = tf.argmax(tf.nn.softmax(y_pred), axis = 1)\n",
    "print(\"y_pred_cls: \", y_pred_cls)\n",
    "\n",
    "correct_mask = tf.equal(y_pred_cls, y_true)\n",
    "accuracy = tf.reduce_mean(tf.cast(correct_mask, tf.float32))\n",
    "\n",
    "start_time = datetime.now()\n",
    "b = Batch(n, batch_size)\n",
    "with tf.Session() as sess:\n",
    "    sess.run(tf.global_variables_initializer())\n",
    "    for step in range(epochs):\n",
    "        batch = b.next()\n",
    "        X_batch, y_batch = X_train[batch, ], y_train[batch, ]\n",
    "        sess.run(solver, feed_dict={X: X_batch, y_true: y_batch})\n",
    "        ans = sess.run(accuracy, feed_dict={X: X_test, y_true: y_test})\n",
    "        if step % 100 == 0 or step == epochs-1:\n",
    "            elapsed = (datetime.now() - start_time).seconds\n",
    "            print(\"Step: %4d, elapsed: %4d, accuracy on test dataset: %.4f\" % (step, elapsed, ans))"
   ]
  },
  {
   "cell_type": "code",
   "execution_count": 22,
   "metadata": {
    "collapsed": true
   },
   "outputs": [],
   "source": [
    "start_time = datetime.now()"
   ]
  },
  {
   "cell_type": "code",
   "execution_count": 27,
   "metadata": {},
   "outputs": [],
   "source": [
    "d = (datetime.now() - start_time).seconds"
   ]
  },
  {
   "cell_type": "code",
   "execution_count": 28,
   "metadata": {},
   "outputs": [
    {
     "data": {
      "text/plain": [
       "128"
      ]
     },
     "execution_count": 28,
     "metadata": {},
     "output_type": "execute_result"
    }
   ],
   "source": [
    "d.seconds"
   ]
  }
 ],
 "metadata": {
  "kernelspec": {
   "display_name": "Python 3",
   "language": "python",
   "name": "python3"
  },
  "language_info": {
   "codemirror_mode": {
    "name": "ipython",
    "version": 3
   },
   "file_extension": ".py",
   "mimetype": "text/x-python",
   "name": "python",
   "nbconvert_exporter": "python",
   "pygments_lexer": "ipython3",
   "version": "3.6.1"
  },
  "widgets": {
   "application/vnd.jupyter.widget-state+json": {
    "state": {},
    "version_major": 1,
    "version_minor": 0
   }
  }
 },
 "nbformat": 4,
 "nbformat_minor": 2
}
